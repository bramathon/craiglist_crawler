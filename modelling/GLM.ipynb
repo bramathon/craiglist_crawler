{
 "cells": [
  {
   "cell_type": "markdown",
   "metadata": {},
   "source": [
    "This notebook will apply a general linear regression model to the data"
   ]
  },
  {
   "cell_type": "code",
   "execution_count": 1,
   "metadata": {},
   "outputs": [],
   "source": [
    "import numpy as np\n",
    "import pandas as pd\n",
    "import pickle\n",
    "import plotly.express as px"
   ]
  },
  {
   "cell_type": "code",
   "execution_count": 2,
   "metadata": {},
   "outputs": [],
   "source": [
    "raw_df = pd.read_pickle(\"dataset.pickle\")"
   ]
  },
  {
   "cell_type": "code",
   "execution_count": 90,
   "metadata": {},
   "outputs": [
    {
     "name": "stdout",
     "output_type": "stream",
     "text": [
      "X Columns: {} Index(['price', 'date', 'latitude', 'longitude', 'area', 'bedrooms', 'pets',\n",
      "       'furnished', 'unit_type__apartment', 'unit_type__condo',\n",
      "       'unit_type__house', 'unit_type__townhouse'],\n",
      "      dtype='object')\n",
      "(306812, 11)\n",
      "(306812, 1)\n"
     ]
    }
   ],
   "source": [
    "# preprocessing\n",
    "\n",
    "\n",
    "raw_df = raw_df.reset_index(drop=True)\n",
    "df = pd.DataFrame()\n",
    "df['price'] = raw_df['price']\n",
    "df['date'] = raw_df['date'].astype(int)/1e9\n",
    "df['latitude'] = raw_df['latitude']\n",
    "df['longitude'] = raw_df['longitude']\n",
    "df['area'] = raw_df['area']\n",
    "df['bedrooms'] = raw_df['bedrooms']\n",
    "df['pets'] = raw_df['pets']\n",
    "df['furnished'] = raw_df['furnished']\n",
    "df['unit_type'] = raw_df['unit_type']\n",
    "\n",
    "# categorical variable one-hot encoded\n",
    "df['unit_type'] = pd.Categorical(df['unit_type'])\n",
    "dfDummies = pd.get_dummies(df['unit_type'], prefix = 'unit_type_')\n",
    "df = pd.concat([df, dfDummies], axis=1)\n",
    "df = df.drop(columns='unit_type')\n",
    "\n",
    "# one-hot encoding using sklearn\n",
    "# from sklearn import preprocessing\n",
    "# from sklearn.impute import KNNImputer\n",
    "# enc = preprocessing.OneHotEncoder()\n",
    "# nan = np.nan\n",
    "# #df['unit_type'] = pd.Categorical(df['unit_type'])\n",
    "# df['unit_type'] = df['unit_type'].replace({None:\"None\"})\n",
    "# X = df['unit_type'].to_numpy().reshape(-1,1)\n",
    "# X = np.concatenate((df.drop(columns='unit_type').to_numpy(),enc.fit_transform(X).toarray()),axis=1) # this has a bug\n",
    "# imputer = KNNImputer(n_neighbors=10, weights=\"uniform\")\n",
    "# X = imputer.fit_transform(X)\n",
    "\n",
    "\n",
    "X = df.drop(columns='price').to_numpy()\n",
    "y = df['price'].to_numpy().reshape([-1,1])\n",
    "\n",
    "print(\"X Columns: {}\",format(df.columns))\n",
    "print(X.shape)\n",
    "print(y.shape)"
   ]
  },
  {
   "cell_type": "code",
   "execution_count": 91,
   "metadata": {},
   "outputs": [],
   "source": [
    "# scale the dataset"
   ]
  },
  {
   "cell_type": "code",
   "execution_count": 92,
   "metadata": {},
   "outputs": [],
   "source": [
    "from sklearn.model_selection import train_test_split\n",
    "\n",
    "X_train, X_test, y_train, y_test = train_test_split(X, y, test_size=0.2, random_state=42)"
   ]
  },
  {
   "cell_type": "code",
   "execution_count": 93,
   "metadata": {},
   "outputs": [
    {
     "name": "stdout",
     "output_type": "stream",
     "text": [
      "Coefficients: \n",
      " [[ 2.24153119e-06  2.38223509e+03 -1.53534785e+03  8.35046473e-01\n",
      "   2.44765622e+02  2.00927935e+02  2.00927935e+02 -1.89584082e+01\n",
      "   3.46131802e+02 -4.44499266e+02  1.17325873e+02]]\n",
      "Mean squared error: 383712.94\n",
      "Coefficient of determination: 0.65\n"
     ]
    }
   ],
   "source": [
    "from sklearn import datasets, linear_model\n",
    "from sklearn.metrics import mean_squared_error, r2_score\n",
    "\n",
    "# # Load the diabetes dataset\n",
    "# diabetes_X, diabetes_y = datasets.load_diabetes(return_X_y=True)\n",
    "\n",
    "# Create linear regression object\n",
    "regr = linear_model.LinearRegression()\n",
    "\n",
    "# Train the model using the training sets\n",
    "regr.fit(X_train, y_train)\n",
    "\n",
    "# Make predictions using the testing set\n",
    "y_pred = regr.predict(X_test)\n",
    "\n",
    "# The coefficients\n",
    "print('Coefficients: \\n', regr.coef_)\n",
    "# The mean squared error\n",
    "print('Mean squared error: %.2f' % mean_squared_error(y_test, y_pred))\n",
    "# The coefficient of determination: 1 is perfect prediction\n",
    "print('Coefficient of determination: %.2f' % r2_score(y_test, y_pred))"
   ]
  },
  {
   "cell_type": "code",
   "execution_count": 95,
   "metadata": {},
   "outputs": [
    {
     "name": "stdout",
     "output_type": "stream",
     "text": [
      "date: y = 0.000002*date\n",
      "latitude: y = 2382.235085*latitude\n",
      "longitude: y = -1535.347846*longitude\n",
      "area: y = 0.835046*area\n",
      "bedrooms: y = 244.765622*bedrooms\n",
      "pets: y = 200.927935*pets\n",
      "furnished: y = 200.927935*furnished\n",
      "unit_type__apartment: y = -18.958408*unit_type__apartment\n",
      "unit_type__condo: y = 346.131802*unit_type__condo\n",
      "unit_type__house: y = -444.499266*unit_type__house\n",
      "unit_type__townhouse: y = 117.325873*unit_type__townhouse\n"
     ]
    }
   ],
   "source": [
    "# visualize results\n",
    "import plotly.graph_objects as go\n",
    "from plotly.subplots import make_subplots\n",
    "import numpy as np\n",
    "import pandas as pd\n",
    "from sklearn import linear_model, datasets\n",
    "\n",
    "# diabetes_X, diabetes_y = datasets.load_diabetes(return_X_y=True)\n",
    "\n",
    "# regr = linear_model.LinearRegression()\n",
    "\n",
    "## Train the model using the training sets\n",
    "# regr.fit(diabetes_X, diabetes_y)\n",
    "\n",
    "## Make predictions using the testing set\n",
    "# y_pred = regr.predict(diabetes_X)\n",
    "\n",
    "# plot_lin_reg(diabetes_X,diabetes_y,regr)\n",
    "\n",
    "def plot_lin_reg (X,y,regr,x_columns=[],y_columns=[]):\n",
    "    # put stuff into a df\n",
    "    data = np.concatenate((X,y),axis=1)\n",
    "    x_columns = x_columns or list(map(lambda x: \"x_\" + str(x),range(X.shape[1])))\n",
    "    y_columns = y_columns or list(map(lambda x: \"y_\" + str(x),range(y.shape[1])))\n",
    "    df = pd.DataFrame(data=data,columns=x_columns+y_columns)\n",
    "    \n",
    "    # make predictions\n",
    "    y_pred = regr.predict(X)\n",
    "    df['y_pred'] = y_pred\n",
    "    \n",
    "    num_columns = len(x_columns)\n",
    "    grid_size = int(np.ceil(np.sqrt(num_columns)))\n",
    "    assert grid_size <= 4, \"Too many variables to plot\"\n",
    "    fig = make_subplots(rows=grid_size,cols=grid_size)\n",
    "    row = 1\n",
    "    col = 1\n",
    "    y_name = y_columns[0]\n",
    "    \n",
    "    for i,col_name in enumerate(x_columns):\n",
    "    \n",
    "        # control the data for all the other variables than the one we are looking at\n",
    "        X_control = np.copy(X)\n",
    "        X_control[:,i] = np.zeros(X.shape[0]) # set the variable to zeros\n",
    "        control = regr.predict(X_control)# - regr.intercept_\n",
    "        y_control = y - control # subtract off the effects of the other variables\n",
    "        df['y_control'] = y_control\n",
    "    \n",
    "        # plot the line for just the active variable\n",
    "        X_regr = np.zeros(X.shape)\n",
    "        X_regr[:,i] = X[:,i]\n",
    "        y_regr = regr.predict(X_regr) - regr.intercept_[0]\n",
    "        df['y_regr'] = y_regr \n",
    "    \n",
    "        print(\"{}: y = {:3f}*{}\".format(col_name,regr.coef_[0][i],col_name))\n",
    "    \n",
    "        # residuals\n",
    "    \n",
    "        residuals = y_regr - y_control\n",
    "        df['residuals'] = residuals\n",
    "    \n",
    "        # finally, let's plot it all\n",
    "\n",
    "        plot_data = df.sample(n=1000,axis=0) if len(df) > 1000 else df # if there are more than 1,000 points, just use a sample\n",
    "        plot_data = plot_data.sort_values(by=col_name)\n",
    "    \n",
    "    \n",
    "        #fig.add_trace(go.Scatter(x=plot_data[col_name],y=plot_data['price'],name='Real Price',mode='markers',visible='legendonly'),row=row,col=col)\n",
    "        fig.add_trace(go.Scatter(x=plot_data[col_name],y=plot_data['y_control'],mode='markers',name='{} (controlled)'.format(y_name)),row=row,col=col)\n",
    "        fig.add_trace(go.Scatter(x=plot_data[col_name],y=plot_data['y_regr'],mode='lines',name='Linear fit'),row=row,col=col)\n",
    "        #fig.add_trace(go.Scatter(x=plot_data['area'],y=plot_data['residuals'],mode='markers',name='Residuals'),row=2,col=1)\n",
    "        #fig.update_yaxes(title_text=\"Price ($)\", row=row, col=col)\n",
    "        fig.update_xaxes(title_text=col_name, row=row, col=col)\n",
    "        \n",
    "        #fig.update_yaxes(title_text=\"Price ($)\", row=2, col=1)\n",
    "        \n",
    "        if row < grid_size:\n",
    "            row = row + 1\n",
    "        else:\n",
    "            row = 1\n",
    "            col = col + 1\n",
    "            \n",
    "    fig.update_layout(title='Linear Model Summary')\n",
    "    fig.update_layout(showlegend=False)\n",
    "    fig.show(renderer='browser')\n",
    "\n",
    "col_names = list(df.columns)\n",
    "col_names.remove('price')\n",
    "plot_lin_reg(X_test,y_test,regr,x_columns=col_names,y_columns=['price'])"
   ]
  },
  {
   "cell_type": "code",
   "execution_count": null,
   "metadata": {},
   "outputs": [],
   "source": []
  },
  {
   "cell_type": "code",
   "execution_count": null,
   "metadata": {},
   "outputs": [],
   "source": []
  }
 ],
 "metadata": {
  "kernelspec": {
   "display_name": "Python 3",
   "language": "python",
   "name": "python3"
  },
  "language_info": {
   "codemirror_mode": {
    "name": "ipython",
    "version": 3
   },
   "file_extension": ".py",
   "mimetype": "text/x-python",
   "name": "python",
   "nbconvert_exporter": "python",
   "pygments_lexer": "ipython3",
   "version": "3.7.3"
  }
 },
 "nbformat": 4,
 "nbformat_minor": 4
}
