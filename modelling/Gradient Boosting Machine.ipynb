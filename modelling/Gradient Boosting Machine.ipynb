{
 "cells": [
  {
   "cell_type": "markdown",
   "metadata": {},
   "source": [
    "This will model the data using a Gradient Boosting Machine"
   ]
  },
  {
   "cell_type": "code",
   "execution_count": null,
   "metadata": {},
   "outputs": [],
   "source": [
    "import numpy as np\n",
    "import pandas as pd\n",
    "import plotly\n",
    "import plotly.express as px\n",
    "import lightgbm as lgb\n",
    "import sklearn\n",
    "from sklearn import metrics\n",
    "from data_utils import load_dataset, core_metrics,map_model\n",
    "\n",
    "#plotly.io.templates.default = 'plotly_dark'"
   ]
  },
  {
   "cell_type": "code",
   "execution_count": null,
   "metadata": {},
   "outputs": [],
   "source": [
    "X_train, X_test, y_train, y_test = load_dataset()"
   ]
  },
  {
   "cell_type": "code",
   "execution_count": null,
   "metadata": {},
   "outputs": [],
   "source": [
    "## hyperparameter search\n",
    "\n",
    "# from sklearn.model_selection import RandomizedSearchCV\n",
    "\n",
    "# lg = lgb.LGBMRegressor(num_leaves=192,learning_rate=0.05,n_estimators=200,objective='l2',silent=False)\n",
    "\n",
    "# param_dist = {'num_leaves': [31,51,101,151,201,301],\n",
    "#               'max_depth': [10,20,30,40,-1],\n",
    "#               'lambda_l2': [0.01,0.03,0.1,0.3],\n",
    "#               'bagging_fraction': [1.0,0.8,0.5]\n",
    "#              }\n",
    "\n",
    "# # if scoring is not provided, the estimator's scoring paramter is used\n",
    "# cv = RandomizedSearchCV(lg,param_dist,n_iter=35,scoring='neg_median_absolute_error')\n",
    "\n",
    "# search = cv.fit(X_train,y_train)\n",
    "\n",
    "# best_params = search.best_params_\n",
    "\n",
    "# lg.set_params(**best_params)\n",
    "\n",
    "# lg.fit(X_train,y_train)\n",
    "\n",
    "# y_pred = lg.predict(X_test)\n",
    "\n",
    "# print(\"Best Params: {}\".format(best_params))\n",
    "# metrics.mean_absolute_error(y_test,y_pred)"
   ]
  },
  {
   "cell_type": "code",
   "execution_count": null,
   "metadata": {},
   "outputs": [],
   "source": [
    "# using lgbm api\n",
    "\n",
    "train_data = lgb.Dataset(X_train, label=y_train,free_raw_data=False)\n",
    "test_data = lgb.Dataset(X_test, label=y_test)\n",
    "params = {'objective':'regression','metric':'mae','learning_rate': 0.05, 'num_leaves': 301, \"max_depth\": 30, \"lambda_l2\": 0.03}\n",
    "evals_result = {}\n",
    "model = lgb.train(params,\n",
    "                  train_data,\n",
    "                  num_boost_round=350,\n",
    "                  valid_sets=[train_data,test_data],\n",
    "                  valid_names=['Train','Test'],\n",
    "                  verbose_eval=20,\n",
    "                  evals_result=evals_result,\n",
    "                  )\n",
    "\n",
    "lgb.plot_metric(evals_result)\n",
    "y_pred = model.predict(X_test)"
   ]
  },
  {
   "cell_type": "code",
   "execution_count": null,
   "metadata": {},
   "outputs": [],
   "source": [
    "from data_utils import core_metrics\n",
    "\n",
    "core_metrics(y_test,y_pred)"
   ]
  },
  {
   "cell_type": "code",
   "execution_count": null,
   "metadata": {},
   "outputs": [],
   "source": [
    "from data_utils import map_model, time_evolution\n",
    "\n",
    "map_model(X_train,model)"
   ]
  },
  {
   "cell_type": "code",
   "execution_count": null,
   "metadata": {},
   "outputs": [],
   "source": [
    "time_evolution(X_train,model)"
   ]
  },
  {
   "cell_type": "code",
   "execution_count": null,
   "metadata": {},
   "outputs": [],
   "source": []
  },
  {
   "cell_type": "code",
   "execution_count": null,
   "metadata": {},
   "outputs": [],
   "source": []
  }
 ],
 "metadata": {
  "kernelspec": {
   "display_name": "Python 3",
   "language": "python",
   "name": "python3"
  },
  "language_info": {
   "codemirror_mode": {
    "name": "ipython",
    "version": 3
   },
   "file_extension": ".py",
   "mimetype": "text/x-python",
   "name": "python",
   "nbconvert_exporter": "python",
   "pygments_lexer": "ipython3",
   "version": "3.7.3"
  }
 },
 "nbformat": 4,
 "nbformat_minor": 4
}
