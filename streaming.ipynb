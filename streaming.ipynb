{
 "cells": [
  {
   "cell_type": "code",
   "execution_count": 1,
   "metadata": {
    "collapsed": true
   },
   "outputs": [],
   "source": [
    "import plotly\n",
    "import plotly.plotly as py\n",
    "import plotly.tools as tls\n",
    "import plotly.graph_objs as go\n",
    "import numpy as np\n",
    "import sqlite3\n",
    "import time\n",
    "import datetime\n",
    "import numpy as np\n",
    "from neighbourhoods import hoods\n",
    "import matplotlib.path as mplPath"
   ]
  },
  {
   "cell_type": "code",
   "execution_count": 2,
   "metadata": {
    "collapsed": false
   },
   "outputs": [
    {
     "name": "stdout",
     "output_type": "stream",
     "text": [
      "xokvwfcuki\n",
      "nsa3fnvzwz\n"
     ]
    }
   ],
   "source": [
    "stream_tokens = tls.get_credentials_file()['stream_ids']\n",
    "token_1 = stream_tokens[-1]   # I'm getting my stream tokens from the end to ensure I'm not reusing tokens\n",
    "token_2 = stream_tokens[-2]\n",
    "print(token_1)\n",
    "print(token_2)"
   ]
  },
  {
   "cell_type": "code",
   "execution_count": 3,
   "metadata": {
    "collapsed": true
   },
   "outputs": [],
   "source": [
    "stream_id1 = dict(token=token_1, maxpoints=30)"
   ]
  },
  {
   "cell_type": "code",
   "execution_count": 7,
   "metadata": {
    "collapsed": false
   },
   "outputs": [],
   "source": [
    "trace1 = go.Scatter(x=[], y=[],text=[],hoverinfo =\"text\",stream=stream_id1, name='1bed',mode = 'lines+markers')\n",
    "\n",
    "data = [trace1]\n",
    "layout = go.Layout(\n",
    "    title='1 Bedroom Apartments for rent in Vancouver',\n",
    "    yaxis=dict(\n",
    "        title='Monthly Rent ($)'\n",
    "    )\n",
    ")\n",
    "\n",
    "fig = go.Figure(data=data, layout=layout)\n",
    "plot_url = py.plot(fig, filename='1bed-rent')\n"
   ]
  },
  {
   "cell_type": "code",
   "execution_count": 8,
   "metadata": {
    "collapsed": false
   },
   "outputs": [],
   "source": [
    "s_1 = py.Stream(stream_id=token_1)"
   ]
  },
  {
   "cell_type": "code",
   "execution_count": 9,
   "metadata": {
    "collapsed": false
   },
   "outputs": [],
   "source": [
    "\n",
    "\n",
    "conn = sqlite3.connect('apartments.db')\n",
    "c = conn.cursor()\n",
    "\n",
    "def in_vancouver(neighbourhood):\n",
    "    in_town = False\n",
    "    for k,v in hoods.items():\n",
    "        if k == neighbourhood:\n",
    "            in_town = True\n",
    "    return in_town\n",
    "\n",
    "def another_one(time):\n",
    "    c.execute('SELECT * FROM apartments WHERE strftime(\"%s\", date) > strftime(\"%s\", ?) AND bedrooms = 1', (time,))\n",
    "    return c.fetchone()"
   ]
  },
  {
   "cell_type": "code",
   "execution_count": 10,
   "metadata": {
    "collapsed": false
   },
   "outputs": [
    {
     "ename": "KeyboardInterrupt",
     "evalue": "",
     "output_type": "error",
     "traceback": [
      "\u001b[1;31m---------------------------------------------------------------------------\u001b[0m",
      "\u001b[1;31mKeyboardInterrupt\u001b[0m                         Traceback (most recent call last)",
      "\u001b[1;32m<ipython-input-10-15c22b5c64b4>\u001b[0m in \u001b[0;36m<module>\u001b[1;34m()\u001b[0m\n\u001b[0;32m     26\u001b[0m         \u001b[1;32mif\u001b[0m \u001b[0mprice\u001b[0m \u001b[1;33m<\u001b[0m \u001b[1;36m3500\u001b[0m \u001b[1;32mand\u001b[0m \u001b[0mprice\u001b[0m \u001b[1;33m>\u001b[0m \u001b[1;36m500\u001b[0m \u001b[1;32mand\u001b[0m \u001b[0min_vancouver\u001b[0m\u001b[1;33m(\u001b[0m\u001b[0mneighbourhood\u001b[0m\u001b[1;33m)\u001b[0m\u001b[1;33m:\u001b[0m \u001b[1;31m# outliers\u001b[0m\u001b[1;33m\u001b[0m\u001b[0m\n\u001b[0;32m     27\u001b[0m             \u001b[0ms_1\u001b[0m\u001b[1;33m.\u001b[0m\u001b[0mwrite\u001b[0m\u001b[1;33m(\u001b[0m\u001b[0mdict\u001b[0m\u001b[1;33m(\u001b[0m\u001b[0mx\u001b[0m\u001b[1;33m=\u001b[0m\u001b[0mx\u001b[0m\u001b[1;33m,\u001b[0m\u001b[0my\u001b[0m\u001b[1;33m=\u001b[0m\u001b[0my\u001b[0m\u001b[1;33m,\u001b[0m\u001b[0mtext\u001b[0m\u001b[1;33m=\u001b[0m\u001b[0mhover_text\u001b[0m\u001b[1;33m)\u001b[0m\u001b[1;33m)\u001b[0m\u001b[1;33m\u001b[0m\u001b[0m\n\u001b[1;32m---> 28\u001b[1;33m         \u001b[0mtime\u001b[0m\u001b[1;33m.\u001b[0m\u001b[0msleep\u001b[0m\u001b[1;33m(\u001b[0m\u001b[0mtime_between_points\u001b[0m\u001b[1;33m)\u001b[0m\u001b[1;33m\u001b[0m\u001b[0m\n\u001b[0m\u001b[0;32m     29\u001b[0m \u001b[0ms_1\u001b[0m\u001b[1;33m.\u001b[0m\u001b[0mclose\u001b[0m\u001b[1;33m(\u001b[0m\u001b[1;33m)\u001b[0m\u001b[1;33m\u001b[0m\u001b[0m\n",
      "\u001b[1;31mKeyboardInterrupt\u001b[0m: "
     ]
    }
   ],
   "source": [
    "s_1.open()\n",
    "current_listing_time = '2017-06-13T20:00:17-07:00'\n",
    "time_between_points = 30\n",
    "for i in range(0, 200):\n",
    "    listing = another_one(current_listing_time)\n",
    "    if listing == None:\n",
    "        s_1.heartbeat()\n",
    "        time.sleep(time_between_points)\n",
    "    else:\n",
    "        current_listing_time = listing[0]\n",
    "        title = listing[3]\n",
    "        price = listing[7]\n",
    "        area = listing[8]\n",
    "        neighbourhood =listing[9]\n",
    "        #x = datetime.datetime.now().strftime('%Y-%m-%d %H:%M:%S')\n",
    "        if area != None and price!= None and neighbourhood!= None:\n",
    "            hover_text = \"$\" + str(price) + \", \" + str(area) + \"sqft, \" + neighbourhood\n",
    "        elif price!= None and neighbourhood!= None:\n",
    "            hover_text = \"$\" + str(price) + \", \"+ neighbourhood\n",
    "        elif neighbourhood!= None:\n",
    "            hover_text = neighbourhood\n",
    "        else:\n",
    "            hover_text = \"\"\n",
    "        x = datetime.datetime.strptime(current_listing_time[0:19], '%Y-%m-%dT%H:%M:%S').strftime('%Y-%m-%d %H:%M:%S')\n",
    "        y = price\n",
    "        if price < 3500 and price > 500 and in_vancouver(neighbourhood): # outliers\n",
    "            s_1.write(dict(x=x,y=y,text=hover_text))\n",
    "        time.sleep(time_between_points)\n",
    "s_1.close()"
   ]
  },
  {
   "cell_type": "code",
   "execution_count": 16,
   "metadata": {
    "collapsed": true
   },
   "outputs": [],
   "source": [
    "s_1.close()"
   ]
  },
  {
   "cell_type": "code",
   "execution_count": 12,
   "metadata": {
    "collapsed": false
   },
   "outputs": [],
   "source": [
    "    data = [{ x:x, y:y1, type:'scatter', mode:'markers',\n",
    "              marker:{color:'rgba(200, 50, 100, .7)', size:16},\n",
    "              hoverinfo:\"x+y\"\n",
    "             },\n",
    "            { x:x, y:y2, type:'scatter', mode:'markers',\n",
    "             marker:{color:'rgba(10, 180, 180, .8)', size:16},\n",
    "             hoverinfo:\"text\"}];\n",
    "    layout = {\n",
    "        hovermode:'closest',\n",
    "        title:'Formatting X & Y Hover Values',\n",
    "        xaxis:{zeroline:false, hoverformat: '.2f', title: 'Rounded: 2 values after the decimal point on hover'},\n",
    "        yaxis:{zeroline:false, hoverformat: '.2r', title: 'Rounded: 2 significant values on hover'}\n",
    "     };"
   ]
  },
  {
   "cell_type": "code",
   "execution_count": 13,
   "metadata": {
    "collapsed": false
   },
   "outputs": [
    {
     "data": {
      "text/plain": [
       "'blarg,blarg'"
      ]
     },
     "execution_count": 13,
     "metadata": {},
     "output_type": "execute_result"
    }
   ],
   "source": []
  },
  {
   "cell_type": "code",
   "execution_count": null,
   "metadata": {
    "collapsed": true
   },
   "outputs": [],
   "source": []
  }
 ],
 "metadata": {
  "anaconda-cloud": {},
  "kernelspec": {
   "display_name": "Python [Root]",
   "language": "python",
   "name": "Python [Root]"
  },
  "language_info": {
   "codemirror_mode": {
    "name": "ipython",
    "version": 3
   },
   "file_extension": ".py",
   "mimetype": "text/x-python",
   "name": "python",
   "nbconvert_exporter": "python",
   "pygments_lexer": "ipython3",
   "version": "3.5.1"
  }
 },
 "nbformat": 4,
 "nbformat_minor": 0
}
