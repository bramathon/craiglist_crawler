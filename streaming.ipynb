{
 "cells": [
  {
   "cell_type": "code",
   "execution_count": 17,
   "metadata": {
    "collapsed": true
   },
   "outputs": [],
   "source": [
    "import plotly\n",
    "import plotly.plotly as py\n",
    "import plotly.tools as tls\n",
    "import plotly.graph_objs as go\n",
    "import numpy as np\n",
    "import sqlite3\n",
    "import time\n",
    "import datetime\n",
    "import numpy as np"
   ]
  },
  {
   "cell_type": "code",
   "execution_count": null,
   "metadata": {
    "collapsed": true
   },
   "outputs": [],
   "source": []
  },
  {
   "cell_type": "code",
   "execution_count": 18,
   "metadata": {
    "collapsed": false
   },
   "outputs": [
    {
     "name": "stdout",
     "output_type": "stream",
     "text": [
      "xokvwfcuki\n",
      "nsa3fnvzwz\n"
     ]
    }
   ],
   "source": [
    "stream_tokens = tls.get_credentials_file()['stream_ids']\n",
    "token_1 = stream_tokens[-1]   # I'm getting my stream tokens from the end to ensure I'm not reusing tokens\n",
    "token_2 = stream_tokens[-2]\n",
    "print(token_1)\n",
    "print(token_2)"
   ]
  },
  {
   "cell_type": "code",
   "execution_count": 25,
   "metadata": {
    "collapsed": true
   },
   "outputs": [],
   "source": [
    "stream_id1 = dict(token=token_1, maxpoints=60)"
   ]
  },
  {
   "cell_type": "code",
   "execution_count": 26,
   "metadata": {
    "collapsed": false
   },
   "outputs": [],
   "source": [
    "trace1 = go.Scatter(x=[], y=[],text =[],stream=stream_id1, name='1bed')\n",
    "\n",
    "data = [trace1]\n",
    "layout = go.Layout(\n",
    "    title='Price of 1 Bedroom Apartments in Vancouver',\n",
    "    yaxis=dict(\n",
    "        title='Rent($)'\n",
    "    )\n",
    ")\n",
    "\n",
    "fig = go.Figure(data=data, layout=layout)\n",
    "plot_url = py.plot(fig, filename='1bed-rent')\n"
   ]
  },
  {
   "cell_type": "code",
   "execution_count": 27,
   "metadata": {
    "collapsed": false
   },
   "outputs": [],
   "source": [
    "s_1 = py.Stream(stream_id=token_1)"
   ]
  },
  {
   "cell_type": "code",
   "execution_count": 28,
   "metadata": {
    "collapsed": false
   },
   "outputs": [],
   "source": [
    "\n",
    "\n",
    "conn = sqlite3.connect('apartments.db')\n",
    "c = conn.cursor()\n",
    "\n",
    "def another_one(time):\n",
    "    c.execute('SELECT * FROM apartments WHERE strftime(\"%s\", date) > strftime(\"%s\", ?) AND bedrooms = 1', (time,))\n",
    "    return c.fetchone()"
   ]
  },
  {
   "cell_type": "code",
   "execution_count": 29,
   "metadata": {
    "collapsed": false
   },
   "outputs": [
    {
     "name": "stdout",
     "output_type": "stream",
     "text": [
      "1300\n",
      "Queensbury\n",
      "1995\n",
      "Yaletown\n"
     ]
    },
    {
     "ename": "KeyboardInterrupt",
     "evalue": "",
     "output_type": "error",
     "traceback": [
      "\u001b[1;31m---------------------------------------------------------------------------\u001b[0m",
      "\u001b[1;31mKeyboardInterrupt\u001b[0m                         Traceback (most recent call last)",
      "\u001b[1;32m<ipython-input-29-d739a0c4c9e1>\u001b[0m in \u001b[0;36m<module>\u001b[1;34m()\u001b[0m\n\u001b[0;32m      9\u001b[0m     \u001b[1;32mif\u001b[0m \u001b[0mlisting\u001b[0m \u001b[1;33m==\u001b[0m \u001b[1;32mNone\u001b[0m\u001b[1;33m:\u001b[0m\u001b[1;33m\u001b[0m\u001b[0m\n\u001b[0;32m     10\u001b[0m         \u001b[0ms_1\u001b[0m\u001b[1;33m.\u001b[0m\u001b[0mheartbeat\u001b[0m\u001b[1;33m(\u001b[0m\u001b[1;33m)\u001b[0m\u001b[1;33m\u001b[0m\u001b[0m\n\u001b[1;32m---> 11\u001b[1;33m         \u001b[0mtime\u001b[0m\u001b[1;33m.\u001b[0m\u001b[0msleep\u001b[0m\u001b[1;33m(\u001b[0m\u001b[0mtime_between_points\u001b[0m\u001b[1;33m)\u001b[0m\u001b[1;33m\u001b[0m\u001b[0m\n\u001b[0m\u001b[0;32m     12\u001b[0m     \u001b[1;32melse\u001b[0m\u001b[1;33m:\u001b[0m\u001b[1;33m\u001b[0m\u001b[0m\n\u001b[0;32m     13\u001b[0m         \u001b[0mcurrent_listing_time\u001b[0m \u001b[1;33m=\u001b[0m \u001b[0mlisting\u001b[0m\u001b[1;33m[\u001b[0m\u001b[1;36m0\u001b[0m\u001b[1;33m]\u001b[0m\u001b[1;33m\u001b[0m\u001b[0m\n",
      "\u001b[1;31mKeyboardInterrupt\u001b[0m: "
     ]
    }
   ],
   "source": [
    "# todo:\n",
    "# convert the posting date to the x-axis date\n",
    "# add more info to the tag\n",
    "s_1.open()\n",
    "current_listing_time = '2017-06-13T20:00:17-07:00'\n",
    "time_between_points = 10\n",
    "for i in range(0, 10):\n",
    "    listing = another_one(current_listing_time)\n",
    "    if listing == None:\n",
    "        s_1.heartbeat()\n",
    "        time.sleep(time_between_points)\n",
    "    else:\n",
    "        current_listing_time = listing[0]\n",
    "        title = listing[3]\n",
    "        price = listing[7]\n",
    "        print(price)\n",
    "        area = listing[8]\n",
    "        neighbourhood =listing[9]\n",
    "        print(neighbourhood)\n",
    "        x = datetime.datetime.now().strftime('%Y-%m-%d %H:%M:%S')\n",
    "        y = price\n",
    "        s_1.write(dict(x=x,y=y,text=neighbourhood))\n",
    "        time.sleep(time_between_points)\n",
    "s_1.close()"
   ]
  },
  {
   "cell_type": "code",
   "execution_count": 16,
   "metadata": {
    "collapsed": true
   },
   "outputs": [],
   "source": [
    "s_1.close()"
   ]
  },
  {
   "cell_type": "code",
   "execution_count": null,
   "metadata": {
    "collapsed": true
   },
   "outputs": [],
   "source": []
  }
 ],
 "metadata": {
  "kernelspec": {
   "display_name": "Python [Root]",
   "language": "python",
   "name": "Python [Root]"
  },
  "language_info": {
   "codemirror_mode": {
    "name": "ipython",
    "version": 3
   },
   "file_extension": ".py",
   "mimetype": "text/x-python",
   "name": "python",
   "nbconvert_exporter": "python",
   "pygments_lexer": "ipython3",
   "version": "3.5.1"
  }
 },
 "nbformat": 4,
 "nbformat_minor": 0
}
