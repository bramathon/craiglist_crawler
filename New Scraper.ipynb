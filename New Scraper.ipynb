{
 "cells": [
  {
   "cell_type": "code",
   "execution_count": 47,
   "metadata": {
    "collapsed": false
   },
   "outputs": [],
   "source": [
    "import feedparser\n",
    "from lxml import html\n",
    "import requests\n",
    "import sqlite3\n",
    "import time\n",
    "import numpy as np\n",
    "from functions import *\n",
    "from bs4 import BeautifulSoup\n",
    "import re, requests"
   ]
  },
  {
   "cell_type": "code",
   "execution_count": 5,
   "metadata": {
    "collapsed": true
   },
   "outputs": [],
   "source": [
    "url = \"http://vancouver.craigslist.ca/search/apa?format=rss\"\n",
    "apts = feedparser.parse( url )\n",
    "conn = sqlite3.connect('apartments.db')\n",
    "c = conn.cursor()"
   ]
  },
  {
   "cell_type": "code",
   "execution_count": 186,
   "metadata": {
    "collapsed": false
   },
   "outputs": [],
   "source": [
    "def parse_int(string):\n",
    "    return int(re.sub('[^0-9]', '', string))\n",
    "               \n",
    "def get_title(soup):\n",
    "    title= soup.find_all(id='titletextonly')[0]\n",
    "    return title.find(text=True, recursive=False).strip()\n",
    "\n",
    "def get_bedrooms(soup):\n",
    "    soup.select('.housing')[0]\n",
    "    \n",
    "def get_price(soup):\n",
    "    item = soup.select('.price')[0]\n",
    "    price_string = item.find(text=True, recursive=False).strip()\n",
    "    return int(re.sub('[^0-9]', '', price_string))\n",
    "\n",
    "def get_location(tree):\n",
    "    longitude = float(tree.xpath('//*[@id=\"map\"]//@data-longitude')[0])\n",
    "    latitude = float(tree.xpath('//*[@id=\"map\"]//@data-latitude')[0])\n",
    "    return [latitude,longitude]\n",
    "\n",
    "def get_address(soup):\n",
    "    return soup.select('.mapaddress')[0].find(text=True, recursive=False).strip()\n",
    "\n",
    "def get_location_soup(soup):\n",
    "    # get the location using soup\n",
    "    div = soup.find_all(id=\"map\")[0]\n",
    "    longitude = 0\n",
    "    latitude = 0\n",
    "    return [latitude,longitude]\n",
    "\n",
    "def get_bedrooms(soup):\n",
    "    attr = soup.select('.attrgroup')[0]\n",
    "    bedrooms = None\n",
    "    for s in attr.strings:\n",
    "        if s.find(\"BR\") != -1:\n",
    "            bedrooms = parse_int(s)\n",
    "    return bedrooms\n",
    "\n",
    "def get_bathrooms(soup):\n",
    "    attr = soup.select('.attrgroup')[0]\n",
    "    bathrooms = None\n",
    "    for s in attr.strings:\n",
    "        if s.find(\"Ba\") != -1:\n",
    "            text = s.find(\"Ba\")\n",
    "            bathrooms = float(s[:text])\n",
    "    return bathrooms\n",
    "\n",
    "def get_area(soup):\n",
    "    attr = soup.select('.attrgroup')[0]\n",
    "    area = None\n",
    "    for s in attr.strings:\n",
    "        if s.find(\"ft\") != -1:\n",
    "            area = parse_int(s.find(text=True, recursive=False).strip())\n",
    "    return area\n",
    "\n",
    "def get_all_the_stuff(soup):\n",
    "    attrs = soup.select('.attrgroup')\n",
    "    stuff = []\n",
    "    for attr in attrs:\n",
    "        for s in attr.strings:\n",
    "            if s.strip() !='':\n",
    "                stuff.append(s.strip())\n",
    "    return stuff"
   ]
  },
  {
   "cell_type": "code",
   "execution_count": 158,
   "metadata": {
    "collapsed": false
   },
   "outputs": [
    {
     "name": "stdout",
     "output_type": "stream",
     "text": [
      "http://vancouver.craigslist.ca/van/apa/6168162921.html\n"
     ]
    },
    {
     "data": {
      "text/plain": [
       "[49.271707, -123.167569]"
      ]
     },
     "execution_count": 158,
     "metadata": {},
     "output_type": "execute_result"
    }
   ],
   "source": [
    "entry = apts.entries[2]\n",
    "page = requests.get(entry.link)\n",
    "tree = html.fromstring(page.content)\n",
    "soup = BeautifulSoup(page.text, \"html.parser\")\n",
    "print(entry.link)\n",
    "get_location(tree)"
   ]
  },
  {
   "cell_type": "code",
   "execution_count": 159,
   "metadata": {
    "collapsed": false
   },
   "outputs": [
    {
     "data": {
      "text/plain": [
       "'View of a Lifetime'"
      ]
     },
     "execution_count": 159,
     "metadata": {},
     "output_type": "execute_result"
    }
   ],
   "source": [
    "get_title(soup)"
   ]
  },
  {
   "cell_type": "code",
   "execution_count": 160,
   "metadata": {
    "collapsed": false
   },
   "outputs": [
    {
     "data": {
      "text/plain": [
       "4800"
      ]
     },
     "execution_count": 160,
     "metadata": {},
     "output_type": "execute_result"
    }
   ],
   "source": [
    "get_price(soup)"
   ]
  },
  {
   "cell_type": "code",
   "execution_count": 162,
   "metadata": {
    "collapsed": false
   },
   "outputs": [
    {
     "data": {
      "text/plain": [
       "'Point Grey Road'"
      ]
     },
     "execution_count": 162,
     "metadata": {},
     "output_type": "execute_result"
    }
   ],
   "source": [
    "get_address(soup)"
   ]
  },
  {
   "cell_type": "code",
   "execution_count": 163,
   "metadata": {
    "collapsed": false
   },
   "outputs": [
    {
     "data": {
      "text/plain": [
       "[49.271707, -123.167569]"
      ]
     },
     "execution_count": 163,
     "metadata": {},
     "output_type": "execute_result"
    }
   ],
   "source": [
    "get_location(tree)"
   ]
  },
  {
   "cell_type": "code",
   "execution_count": 172,
   "metadata": {
    "collapsed": false
   },
   "outputs": [
    {
     "data": {
      "text/plain": [
       "3"
      ]
     },
     "execution_count": 172,
     "metadata": {},
     "output_type": "execute_result"
    }
   ],
   "source": [
    "get_bedrooms(soup)"
   ]
  },
  {
   "cell_type": "code",
   "execution_count": 187,
   "metadata": {
    "collapsed": false
   },
   "outputs": [
    {
     "data": {
      "text/plain": [
       "1.5"
      ]
     },
     "execution_count": 187,
     "metadata": {},
     "output_type": "execute_result"
    }
   ],
   "source": [
    "get_bathrooms(soup)"
   ]
  },
  {
   "cell_type": "code",
   "execution_count": 188,
   "metadata": {
    "collapsed": false
   },
   "outputs": [
    {
     "data": {
      "text/plain": [
       "['3BR',\n",
       " '/',\n",
       " '1.5Ba',\n",
       " '1400',\n",
       " 'ft',\n",
       " '2',\n",
       " 'available aug 1',\n",
       " 'house',\n",
       " 'w/d in unit',\n",
       " 'no smoking',\n",
       " 'off-street parking']"
      ]
     },
     "execution_count": 188,
     "metadata": {},
     "output_type": "execute_result"
    }
   ],
   "source": [
    "get_all_the_stuff(soup)"
   ]
  },
  {
   "cell_type": "code",
   "execution_count": 155,
   "metadata": {
    "collapsed": false
   },
   "outputs": [
    {
     "data": {
      "text/plain": [
       "'936 East 40th Ave'"
      ]
     },
     "execution_count": 155,
     "metadata": {},
     "output_type": "execute_result"
    }
   ],
   "source": []
  },
  {
   "cell_type": "code",
   "execution_count": null,
   "metadata": {
    "collapsed": true
   },
   "outputs": [],
   "source": []
  }
 ],
 "metadata": {
  "anaconda-cloud": {},
  "kernelspec": {
   "display_name": "Python [Root]",
   "language": "python",
   "name": "Python [Root]"
  },
  "language_info": {
   "codemirror_mode": {
    "name": "ipython",
    "version": 3
   },
   "file_extension": ".py",
   "mimetype": "text/x-python",
   "name": "python",
   "nbconvert_exporter": "python",
   "pygments_lexer": "ipython3",
   "version": "3.5.1"
  }
 },
 "nbformat": 4,
 "nbformat_minor": 0
}
