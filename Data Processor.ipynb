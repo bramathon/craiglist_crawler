{
 "cells": [
  {
   "cell_type": "code",
   "execution_count": 3,
   "metadata": {
    "collapsed": true
   },
   "outputs": [],
   "source": [
    "import numpy as np\n",
    "import pandas as pd\n",
    "import sqlite3\n",
    "conn = sqlite3.connect('apartments.db')\n",
    "c = conn.cursor()"
   ]
  },
  {
   "cell_type": "code",
   "execution_count": 4,
   "metadata": {
    "collapsed": true
   },
   "outputs": [],
   "source": [
    "def records_for_month_van_with_area(month):\n",
    "    c.execute('SELECT * FROM apartments WHERE strftime(\"%m\", date) = ? AND strftime(\"%Y\", date) = ? AND area is NOT NULL AND ID LIKE ?', (month,year,\"%//vancouver.craigslist.ca/van/apa%\"))\n",
    "    all_data = []\n",
    "    for (date, link, description, lat, long, address, available, price, area, neighbourhood, extras, bathrooms,bedrooms) in c.fetchall():\n",
    "        if price is not None and price > min_reasonable_price and price < max_reasonable_price:\n",
    "            all_data.append([date,lat,long,price,area,extras])\n",
    "    return all_data\n",
    "\n",
    "year = \"2017\"\n",
    "def get_records(month):\n",
    "    \n",
    "    c.execute('SELECT * FROM apartments WHERE strftime(\"%m\", date) = ? AND strftime(\"%Y\", date) = ? AND area is NOT NULL AND ID LIKE ? LIMIT 100', (month,year,\"%//vancouver.craigslist.ca/van/apa%\"))\n",
    "    data = []\n",
    "    for record in c.fetchall():\n",
    "        data.append(record)\n",
    "    return data"
   ]
  },
  {
   "cell_type": "code",
   "execution_count": 9,
   "metadata": {
    "collapsed": false
   },
   "outputs": [
    {
     "ename": "SyntaxError",
     "evalue": "invalid syntax (<ipython-input-9-2c42b4d0d08b>, line 1)",
     "output_type": "error",
     "traceback": [
      "\u001b[1;36m  File \u001b[1;32m\"<ipython-input-9-2c42b4d0d08b>\"\u001b[1;36m, line \u001b[1;32m1\u001b[0m\n\u001b[1;33m    \"SELECT * FROM apartments WHERE strftime(\"%m\", date) = ? AND strftime(\"%Y\", date) = ? AND area is NOT NULL AND ID LIKE ? LIMIT 100\" % ('09',\"2017\",\"%//vancouver.craigslist.ca/van/apa%\")\u001b[0m\n\u001b[1;37m                                                                          ^\u001b[0m\n\u001b[1;31mSyntaxError\u001b[0m\u001b[1;31m:\u001b[0m invalid syntax\n"
     ]
    }
   ],
   "source": [
    "\"SELECT * FROM apartments WHERE strftime(\\\"%m\\\", date) = ? AND strftime(\\\"%Y\\\", date) = ? AND area is NOT NULL AND ID LIKE ? LIMIT 100\" % ('09',\"2017\",\"%//vancouver.craigslist.ca/van/apa%\")"
   ]
  },
  {
   "cell_type": "code",
   "execution_count": 1,
   "metadata": {
    "collapsed": false
   },
   "outputs": [
    {
     "data": {
      "text/html": [
       "<iframe id=\"igraph\" scrolling=\"no\" style=\"border:none;\" seamless=\"seamless\" src=\"https://plot.ly/~bramathon/67.embed\" height=\"525px\" width=\"100%\"></iframe>"
      ],
      "text/plain": [
       "<plotly.tools.PlotlyDisplay object>"
      ]
     },
     "execution_count": 1,
     "metadata": {},
     "output_type": "execute_result"
    }
   ],
   "source": [
    "import plotly.plotly as py\n",
    "from plotly.graph_objs import *\n",
    "\n",
    "mapbox_access_token = 'pk.eyJ1IjoiYnJhbWV2ZXJ0IiwiYSI6ImNqOHk0aHMxOTI4eDUzNHF6dDBiMmNvbjkifQ.mqP1zmto8tR9O6yTOaeP7w'\n",
    "# https://plot.ly/python/scattermapbox/\n",
    "\n",
    "data = Data([\n",
    "    Scattermapbox(\n",
    "        lat=['45.5017'],\n",
    "        lon=['-73.5673'],\n",
    "        mode='markers',\n",
    "        marker=Marker(\n",
    "            size=14\n",
    "        ),\n",
    "        text=['Montreal'],\n",
    "    )\n",
    "])\n",
    "\n",
    "layout = Layout(\n",
    "    autosize=True,\n",
    "    hovermode='closest',\n",
    "    mapbox=dict(\n",
    "        accesstoken=mapbox_access_token,\n",
    "        bearing=0,\n",
    "        center=dict(\n",
    "            lat=45,\n",
    "            lon=-73\n",
    "        ),\n",
    "        pitch=0,\n",
    "        zoom=5\n",
    "    ),\n",
    ")\n",
    "\n",
    "fig = dict(data=data, layout=layout)\n",
    "py.iplot(fig, filename='Montreal Mapbox')\n"
   ]
  },
  {
   "cell_type": "code",
   "execution_count": null,
   "metadata": {
    "collapsed": true
   },
   "outputs": [],
   "source": []
  }
 ],
 "metadata": {
  "kernelspec": {
   "display_name": "Python [Root]",
   "language": "python",
   "name": "Python [Root]"
  },
  "language_info": {
   "codemirror_mode": {
    "name": "ipython",
    "version": 3
   },
   "file_extension": ".py",
   "mimetype": "text/x-python",
   "name": "python",
   "nbconvert_exporter": "python",
   "pygments_lexer": "ipython3",
   "version": "3.5.1"
  }
 },
 "nbformat": 4,
 "nbformat_minor": 0
}
