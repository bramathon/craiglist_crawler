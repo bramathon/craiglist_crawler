{
 "cells": [
  {
   "cell_type": "code",
   "execution_count": 3,
   "metadata": {},
   "outputs": [],
   "source": [
    "import feedparser\n",
    "from lxml import html\n",
    "import requests\n",
    "import sqlite3\n",
    "import time\n",
    "import numpy as np\n",
    "from functions import *\n",
    "from bs4 import BeautifulSoup\n",
    "import re, requests\n",
    "from neighbourhoods import hoods, cities\n",
    "import pandas as pd\n",
    "import matplotlib.path as mplPath\n",
    "\n",
    "#url = \"http://vancouver.craigslist.ca/search/apa?format=rss&is_paid=all&max_price=2000&min_price=1000&postedToday=1\"\n",
    "url = \"http://vancouver.craigslist.ca/search/apa?format=rss\"\n",
    "apts = feedparser.parse( url )\n",
    "conn = sqlite3.connect('apartments.db')\n",
    "c = conn.cursor()"
   ]
  },
  {
   "cell_type": "code",
   "execution_count": 5,
   "metadata": {},
   "outputs": [
    {
     "data": {
      "text/plain": [
       "'5.2.1'"
      ]
     },
     "execution_count": 5,
     "metadata": {},
     "output_type": "execute_result"
    }
   ],
   "source": [
    "feedparser.__version__"
   ]
  },
  {
   "cell_type": "code",
   "execution_count": null,
   "metadata": {},
   "outputs": [],
   "source": [
    "apts"
   ]
  }
 ],
 "metadata": {
  "kernelspec": {
   "display_name": "Python 3",
   "language": "python",
   "name": "python3"
  },
  "language_info": {
   "codemirror_mode": {
    "name": "ipython",
    "version": 3
   },
   "file_extension": ".py",
   "mimetype": "text/x-python",
   "name": "python",
   "nbconvert_exporter": "python",
   "pygments_lexer": "ipython3",
   "version": "3.7.3"
  }
 },
 "nbformat": 4,
 "nbformat_minor": 4
}
