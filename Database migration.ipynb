{
 "cells": [
  {
   "cell_type": "code",
   "execution_count": null,
   "metadata": {},
   "outputs": [],
   "source": [
    "import numpy as np\n",
    "import pandas as pd\n",
    "import sqlite3\n",
    "import calendar\n",
    "import json\n",
    "import matplotlib.path as mplPath\n",
    "\n",
    "import shapefile\n",
    "from neighbourhoods import hoods, cities"
   ]
  },
  {
   "cell_type": "markdown",
   "metadata": {},
   "source": [
    "# Basic plan for a migration\n",
    "1. Create a new database with the desired schema\n",
    "2. Load the existing data into a dataframe\n",
    "3. Apply changes to the dataframe\n",
    "4. Write the new dataframe to the new database"
   ]
  },
  {
   "cell_type": "code",
   "execution_count": null,
   "metadata": {},
   "outputs": [],
   "source": [
    "raw_data = sqlite3.connect('apartments.db')\n",
    "raw = raw_data.cursor()\n",
    "\n",
    "clean_data = sqlite3.connect('apartments_new.db')\n",
    "clean = clean_data.cursor()"
   ]
  },
  {
   "cell_type": "code",
   "execution_count": null,
   "metadata": {},
   "outputs": [],
   "source": [
    "def create_new_table(conn):\n",
    "    conn.execute(\"\"\"\n",
    "    CREATE TABLE IF NOT EXISTS 'apartments' (\n",
    "    'date' TEXT,\n",
    "    'id' TEXT,\n",
    "    'title' TEXT,\n",
    "    'latitude' REAL, \n",
    "    'longitude' REAL,\n",
    "    'address' TEXT,\n",
    "    'date_available' TEXT,\n",
    "    'price' REAL,\n",
    "    'area' REAL,\n",
    "    'neighbourhood' TEXT,\n",
    "    'extras' TEXT,\n",
    "    'bedrooms' REAL,\n",
    "    'bathrooms' REAL,\n",
    "    'unit_type' TEXT,\n",
    "    'parking' TEXT,\n",
    "    'smoking' BOOL,\n",
    "    'pets' TEXT,\n",
    "    'laundry' TEXT,\n",
    "    'furnished' BOOL,\n",
    "    'city' TEXT,\n",
    "    'location' TEXT);\"\"\")\n",
    "    \n",
    "create_new_table(clean)\n",
    "clean_data.commit()"
   ]
  },
  {
   "cell_type": "code",
   "execution_count": null,
   "metadata": {},
   "outputs": [],
   "source": [
    "# load data\n",
    "df = pd.read_sql_query(\"SELECT * FROM apartments\",raw_data)"
   ]
  },
  {
   "cell_type": "code",
   "execution_count": null,
   "metadata": {},
   "outputs": [],
   "source": [
    "# select the city\n",
    "# takes about 8 minutes\n",
    "\n",
    "def pick_city (x):\n",
    "    selected_city = None\n",
    "    for city, coords in cities.items():\n",
    "        if mplPath.Path(coords.values).contains_point((x['longitude'],x['latitude'])) == True:\n",
    "            selected_city = city\n",
    "            break\n",
    "    return selected_city\n",
    "\n",
    "# Select the city for all records\n",
    "# 7.16s for 10,000 records\n",
    "% time df['City'] = df.apply(pick_city,axis=1)"
   ]
  },
  {
   "cell_type": "code",
   "execution_count": null,
   "metadata": {},
   "outputs": [],
   "source": [
    "# select the neighbourhood\n",
    "# if neighbourhood is selected from defined set, then set neighbourhood field\n",
    "# otherwise report in location field\n",
    "\n",
    "def pick_location(x):\n",
    "    location = x['neighbourhood']\n",
    "    if location != None:\n",
    "        location = location.lower()\n",
    "    return location\n",
    "\n",
    "def get_neighbourhood(latitude,longitude):\n",
    "    # or, grab small from postig title text\n",
    "    try:\n",
    "        neighbourhood = None\n",
    "        for k,v in hoods.items():\n",
    "            if mplPath.Path(v.values).contains_point((longitude,latitude)): # for some reason, files are long,lat\n",
    "                neighbourhood = k\n",
    "                break\n",
    "    except:\n",
    "        neighbourhood = None\n",
    "    return neighbourhood\n",
    "        \n",
    "def pick_neighbourhood (x):\n",
    "    neighbourhood = get_neighbourhood(x['latitude'],x['longitude'])\n",
    "    return neighbourhood\n",
    "\n",
    "pick_location(df.iloc[0])\n",
    "% time df['location'] = df.apply(pick_location,axis=1)\n",
    "\n",
    "#pick_neighbourhood(df.iloc[0])\n",
    "df['neighbourhood'] = df.apply(pick_neighbourhood,axis=1)"
   ]
  },
  {
   "cell_type": "code",
   "execution_count": null,
   "metadata": {},
   "outputs": [],
   "source": [
    "def furnished (x):\n",
    "    furn = False\n",
    "    if x['furnished'] == 1:\n",
    "        furn = True\n",
    "    return furn\n",
    "\n",
    "% time df['furnished'] = df.apply(furnished,axis=1)\n"
   ]
  },
  {
   "cell_type": "code",
   "execution_count": null,
   "metadata": {},
   "outputs": [],
   "source": [
    "df.to_sql(\"apartments\",clean_data,if_exists='replace',index=False)"
   ]
  },
  {
   "cell_type": "code",
   "execution_count": null,
   "metadata": {},
   "outputs": [],
   "source": [
    "clean_data.close()"
   ]
  },
  {
   "cell_type": "code",
   "execution_count": null,
   "metadata": {},
   "outputs": [],
   "source": []
  }
 ],
 "metadata": {
  "kernelspec": {
   "display_name": "Python 3",
   "language": "python",
   "name": "python3"
  },
  "language_info": {
   "codemirror_mode": {
    "name": "ipython",
    "version": 3
   },
   "file_extension": ".py",
   "mimetype": "text/x-python",
   "name": "python",
   "nbconvert_exporter": "python",
   "pygments_lexer": "ipython3",
   "version": "3.6.5"
  }
 },
 "nbformat": 4,
 "nbformat_minor": 2
}
